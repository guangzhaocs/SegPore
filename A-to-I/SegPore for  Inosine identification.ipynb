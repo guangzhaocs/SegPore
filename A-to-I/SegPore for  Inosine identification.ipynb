{
 "cells": [
  {
   "cell_type": "markdown",
   "id": "a6b292b1",
   "metadata": {},
   "source": [
    "<center><big><b>SegPore for Inosine Identification</b></big></center>"
   ]
  },
  {
   "cell_type": "markdown",
   "id": "99583c52",
   "metadata": {},
   "source": [
    "After the training on IVT data, we divide 81 XXAXX (X is A, C, or U/T) into three patterns. \n",
    "- Pattern 1: 5mers that show no difference  between A and I;\n",
    "- Pattern 2: 5mers that show significant difference between A and I;\n",
    "- Pattern 3: 5mers that show significant difference between A and I, but the component weight of A is low. "
   ]
  },
  {
   "cell_type": "code",
   "execution_count": 1,
   "id": "b05c2fa5",
   "metadata": {},
   "outputs": [
    {
     "name": "stdout",
     "output_type": "stream",
     "text": [
      "Pattern 1: 5mer count 20.\n",
      "Pattern 2: 5mer count 23.\n",
      "Pattern 3: 5mer count 38.\n"
     ]
    }
   ],
   "source": [
    "from matplotlib import rcParams\n",
    "import scipy.stats as st\n",
    "import pandas as pd\n",
    "import matplotlib.pyplot as plt\n",
    "import numpy as np\n",
    "import seaborn as sns\n",
    "from pandas import DataFrame\n",
    "\n",
    "model_kmer = pd.read_csv(\"model_kmer_A_to_I.csv\")\n",
    "for i in [1, 2, 3]:\n",
    "    model_kmer_pattern = model_kmer[model_kmer['pattern'] == i]\n",
    "    print(f\"Pattern {i}: 5mer count {len(model_kmer_pattern)}.\")"
   ]
  },
  {
   "cell_type": "code",
   "execution_count": 2,
   "id": "687ef7bb",
   "metadata": {},
   "outputs": [
    {
     "name": "stdout",
     "output_type": "stream",
     "text": [
      "     model_kmer  model_mean  model_stdv  model_mean_un  model_stdv_un  \\\n",
      "0         AAAAA      108.90        2.16         116.85           3.00   \n",
      "1         AAAAC      107.75        2.68         119.91           3.00   \n",
      "2         AAAAG      101.72        2.68         101.72           2.68   \n",
      "3         AAAAT      112.77        2.68         123.53           2.00   \n",
      "4         AAACA       99.38        1.78         106.19           2.89   \n",
      "...         ...         ...         ...            ...            ...   \n",
      "1020      TTTGT       85.15        2.65          85.15           2.65   \n",
      "1021      TTTTA       79.28        1.97          79.28           1.97   \n",
      "1022      TTTTC       77.91        1.97          77.91           1.97   \n",
      "1023      TTTTG       81.03        1.97          81.03           1.97   \n",
      "1024      TTTTT       80.78        1.97          80.78           1.97   \n",
      "\n",
      "      pattern   diff  \n",
      "0           2   7.95  \n",
      "1           3  12.16  \n",
      "2           0   0.00  \n",
      "3           2  10.76  \n",
      "4           2   6.81  \n",
      "...       ...    ...  \n",
      "1020        0   0.00  \n",
      "1021        0   0.00  \n",
      "1022        0   0.00  \n",
      "1023        0   0.00  \n",
      "1024        0   0.00  \n",
      "\n",
      "[1025 rows x 7 columns]\n"
     ]
    }
   ],
   "source": [
    "print(model_kmer)"
   ]
  },
  {
   "cell_type": "markdown",
   "id": "992ceb0f",
   "metadata": {},
   "source": [
    "The original publication (Nguyen, T.A. et al. Direct identification of A-to-I editing sites with nanopore native RNA sequencing. Nat Methods 19, 833-844, 2022.) privdes 4,934 genomic locations modfication rate on Chromosome 3 and 11 (https://codeocean.com/capsule/4038948/tree/v1, test_H9_regression_allannotatedsites_0to1.RData).\n",
    "\n",
    "From these genomic locations, we only select the Pattern 2 and 3 (1,007 sites). And we treat the sites with a modification rate greater than 0.1 as the positive control, and sites with a \n",
    "modification rate equal to 0 as the negative control. "
   ]
  },
  {
   "cell_type": "code",
   "execution_count": 3,
   "id": "66143a32",
   "metadata": {},
   "outputs": [
    {
     "name": "stdout",
     "output_type": "stream",
     "text": [
      "      chr strand   position      rate   kmer  pattern  label\n",
      "0      11      +  108236520  0.181818  TCACA        3      1\n",
      "1      11      +  108236590  0.125000  CTACT        3      1\n",
      "2      11      +  108236593  0.229167  CTAAA        3      1\n",
      "3      11      +  108236595  0.291667  AAAAA        2      1\n",
      "4      11      +  108236599  0.100000  ATACA        3      1\n",
      "...   ...    ...        ...       ...    ...      ...    ...\n",
      "1002    3      -    9883040  0.000000  CTAAA        3      0\n",
      "1003    3      -    9883100  0.000000  TCACC        3      0\n",
      "1004    3      -    9883389  0.000000  TCACT        3      0\n",
      "1005    3      -    9987687  0.000000  ATACA        3      0\n",
      "1006    3      -    9987692  0.000000  TAAAA        3      0\n",
      "\n",
      "[1007 rows x 7 columns]\n"
     ]
    }
   ],
   "source": [
    "gt_df = pd.read_csv(\"test_H9_regression_allannotatedsites_0to1_with_kmer_filter.csv\")\n",
    "print(gt_df)"
   ]
  },
  {
   "cell_type": "code",
   "execution_count": 4,
   "id": "dacd03d4",
   "metadata": {},
   "outputs": [
    {
     "name": "stdout",
     "output_type": "stream",
     "text": [
      "Postive control: 129 sites.\n",
      "Negtive control: 878 sites.\n"
     ]
    }
   ],
   "source": [
    "pos_gt_df = gt_df[gt_df['label'] == 1]\n",
    "print(f\"Postive control: {len(pos_gt_df)} sites.\")\n",
    "\n",
    "neg_gt_df = gt_df[gt_df['label'] == 0]\n",
    "print(f\"Negtive control: {len(neg_gt_df)} sites.\")"
   ]
  },
  {
   "cell_type": "markdown",
   "id": "6f01d1ff",
   "metadata": {},
   "source": [
    "We only select 10 samples (Accession: SRX14436756, SRX14436755, SRX14436754, SRX14436753, SRX14436752, SRX14448128, SRX14448125, SRX14448129, SRX14604385, and SRX14604391) from the H9 WT embryo (https://www.ncbi.nlm.nih.gov/sra/?term=SRP363295). After the SegPore workflow using the `model_kmer`, we keep the sites with the read coverage larger than 10."
   ]
  },
  {
   "cell_type": "code",
   "execution_count": 5,
   "id": "3e220fd3",
   "metadata": {},
   "outputs": [
    {
     "name": "stdout",
     "output_type": "stream",
     "text": [
      "5mer count: 18.\n"
     ]
    }
   ],
   "source": [
    "res_df = pd.read_csv(\"site_mod_rate_A_to_I.csv\")\n",
    "\n",
    "pos_res_df = res_df[res_df['label'] == 1]\n",
    "pos_data = list(pos_res_df['pred_wt_rate'])\n",
    "\n",
    "neg_res_df = res_df[res_df['label'] == 0]\n",
    "neg_data = list(neg_res_df['pred_wt_rate'])\n",
    "\n",
    "kmer_list = list(set(list(res_df['kmer'])))\n",
    "print(f\"5mer count: {len(kmer_list)}.\")"
   ]
  },
  {
   "cell_type": "code",
   "execution_count": 6,
   "id": "f9ad2720",
   "metadata": {},
   "outputs": [
    {
     "data": {
      "image/png": "[encoded data removed]",
      "text/plain": [
       "<Figure size 640x480 with 1 Axes>"
      ]
     },
     "metadata": {},
     "output_type": "display_data"
    }
   ],
   "source": [
    "plot_data = [pos_data, neg_data]\n",
    "bplot = plt.boxplot(plot_data, patch_artist=True)\n",
    "colors = ['pink', 'lightblue']\n",
    "for patch, color in zip(bplot['boxes'], colors):\n",
    "    patch.set_facecolor(color)\n",
    "plt.xticks([1, 2], ['Positive Control', 'Negative Control'])\n",
    "plt.title('Modification rate on H9 data')\n",
    "plt.show()"
   ]
  },
  {
   "cell_type": "code",
   "execution_count": 7,
   "id": "932c70a8",
   "metadata": {},
   "outputs": [
    {
     "name": "stdout",
     "output_type": "stream",
     "text": [
      "Ttest_indResult(statistic=6.978163758809104, pvalue=2.2207800776957728e-11)\n"
     ]
    }
   ],
   "source": [
    "from scipy import stats\n",
    "print(stats.ttest_ind(pos_data, neg_data, equal_var=True))"
   ]
  },
  {
   "cell_type": "code",
   "execution_count": null,
   "id": "0de22738",
   "metadata": {},
   "outputs": [],
   "source": []
  }
 ],
 "metadata": {
  "kernelspec": {
   "display_name": "Python 3 (bioinfo37)",
   "language": "python",
   "name": "bioinfo37"
  },
  "language_info": {
   "codemirror_mode": {
    "name": "ipython",
    "version": 3
   },
   "file_extension": ".py",
   "mimetype": "text/x-python",
   "name": "python",
   "nbconvert_exporter": "python",
   "pygments_lexer": "ipython3",
   "version": "3.7.12"
  }
 },
 "nbformat": 4,
 "nbformat_minor": 5
}
